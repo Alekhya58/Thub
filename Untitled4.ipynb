{
  "nbformat": 4,
  "nbformat_minor": 0,
  "metadata": {
    "colab": {
      "provenance": [],
      "authorship_tag": "ABX9TyOA3h3Q/3NeNTYcSb2SUPyz",
      "include_colab_link": true
    },
    "kernelspec": {
      "name": "python3",
      "display_name": "Python 3"
    },
    "language_info": {
      "name": "python"
    }
  },
  "cells": [
    {
      "cell_type": "markdown",
      "metadata": {
        "id": "view-in-github",
        "colab_type": "text"
      },
      "source": [
        "<a href=\"https://colab.research.google.com/github/Alekhya58/Thub/blob/master/Untitled4.ipynb\" target=\"_parent\"><img src=\"https://colab.research.google.com/assets/colab-badge.svg\" alt=\"Open In Colab\"/></a>"
      ]
    },
    {
      "cell_type": "code",
      "execution_count": 1,
      "metadata": {
        "colab": {
          "base_uri": "https://localhost:8080/"
        },
        "id": "Q376Sktvv4SA",
        "outputId": "9bb24da3-2f96-45ac-c84e-fb5eb8053872"
      },
      "outputs": [
        {
          "output_type": "stream",
          "name": "stdout",
          "text": [
            "     sky  temp humidity    wind water forecast enjoysport\n",
            "0  sunny  warm   normal  strong  warm     same        yes\n",
            "1  sunny  warm     high  strong  warm     same        yes\n",
            "2  rainy  cold     high  strong  warm   change         no\n",
            "3  sunny  warm     high  strong  cool   change        yes\n"
          ]
        }
      ],
      "source": [
        "import numpy as np\n",
        "import pandas as pd\n",
        "data = pd.DataFrame(data=pd.read_csv('hello.csv'))\n",
        "print(data)"
      ]
    },
    {
      "cell_type": "code",
      "source": [
        "concepts = np.array(data.iloc[:,0:-1])\n",
        "print(concepts)"
      ],
      "metadata": {
        "colab": {
          "base_uri": "https://localhost:8080/"
        },
        "id": "C5G3abgJwiRM",
        "outputId": "78ef5a62-02f1-40f5-e36d-ccf6d653a8c6"
      },
      "execution_count": 2,
      "outputs": [
        {
          "output_type": "stream",
          "name": "stdout",
          "text": [
            "[['sunny' 'warm' 'normal' 'strong' 'warm' 'same']\n",
            " ['sunny' 'warm' 'high' 'strong' 'warm' 'same']\n",
            " ['rainy' 'cold' 'high' 'strong' 'warm' 'change']\n",
            " ['sunny' 'warm' 'high' 'strong' 'cool' 'change']]\n"
          ]
        }
      ]
    },
    {
      "cell_type": "code",
      "source": [
        "target = np.array(data.iloc[:,-1])\n",
        "print(target)"
      ],
      "metadata": {
        "colab": {
          "base_uri": "https://localhost:8080/"
        },
        "id": "zf-E4ToewlGb",
        "outputId": "0404f49e-6c05-4512-beae-e2ab37461aa4"
      },
      "execution_count": 3,
      "outputs": [
        {
          "output_type": "stream",
          "name": "stdout",
          "text": [
            "['yes' 'yes' 'no' 'yes']\n"
          ]
        }
      ]
    },
    {
      "cell_type": "code",
      "source": [
        "def learn(concepts, target):\n",
        "specific_h = concepts[0].copy()\n",
        "print(\"\\nInitialization of specific_h and general_h\")\n",
        "print(specific_h)\n",
        "general_h = [[\"?\" for i in range(len(specific_h))] for i in range(len(specific_h))]\n",
        "print(general_h)\n",
        "for i, h in enumerate(concepts):\n",
        "  if target[i] == \"Yes\":\n",
        "            for x in range(len(specific_h)):\n",
        "\n",
        "                # Change values in S & G only if values change\n",
        "                if h[x] != specific_h[x]:\n",
        "                    specific_h[x] = '?'\n",
        "                    general_h[x][x] = '?'\n"
      ],
      "metadata": {
        "id": "xwBRjnN8wqRD"
      },
      "execution_count": null,
      "outputs": []
    }
  ]
}